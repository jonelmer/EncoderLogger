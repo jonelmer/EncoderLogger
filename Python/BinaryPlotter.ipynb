{
 "cells": [
  {
   "cell_type": "code",
   "execution_count": 1,
   "metadata": {},
   "outputs": [
    {
     "name": "stdout",
     "output_type": "stream",
     "text": [
      "Copied 2018-06-18 09-48-37.bin from the PLC\n"
     ]
    }
   ],
   "source": [
    "# Get the latest fie from the PLC\n",
    "\n",
    "import pyads\n",
    "\n",
    "plc_name = \"//CX-31162A\"\n",
    "plc = pyads.Connection('5.49.22.42.1.1', 851)\n",
    "\n",
    "plc.open()\n",
    "remote_file = plc.read_by_name('MAIN.sFileName', pyads.PLCTYPE_STRING)\n",
    "plc.close()\n",
    "\n",
    "import os.path\n",
    "import shutil\n",
    "\n",
    "d, f = os.path.splitdrive(remote_file)\n",
    "h, t = os.path.split(remote_file)\n",
    "\n",
    "filename = shutil.copyfile(os.path.join(plc_name, f[1:]), t)\n",
    "\n",
    "if filename:\n",
    "    print(\"Copied {} from the PLC\".format(filename))"
   ]
  },
  {
   "cell_type": "code",
   "execution_count": 2,
   "metadata": {},
   "outputs": [
    {
     "name": "stdout",
     "output_type": "stream",
     "text": [
      "Got 264438 samples\n"
     ]
    }
   ],
   "source": [
    "import struct\n",
    "\n",
    "#filename = \"2018-06-14 14-18-13.bin\"\n",
    "\n",
    "# Set up the structure to read:\n",
    "struct_fmt = 'QI4x' # T_DCTIME64 = Q, UINT = I, 4 padding bytes\n",
    "struct_len = struct.calcsize(struct_fmt)\n",
    "struct_unpack = struct.Struct(struct_fmt).unpack_from\n",
    "\n",
    "# Load the file\n",
    "datapoints = []\n",
    "with open(filename, \"rb\") as f:\n",
    "    #for i in range(10):\n",
    "    while True:\n",
    "        data = f.read(struct_len)\n",
    "        if not data: break\n",
    "        s = struct_unpack(data)\n",
    "        datapoints.append(s)\n",
    "        \n",
    "print(\"Got {} samples\".format(len(datapoints)))"
   ]
  },
  {
   "cell_type": "code",
   "execution_count": 3,
   "metadata": {},
   "outputs": [
    {
     "name": "stdout",
     "output_type": "stream",
     "text": [
      "Sample rate\n",
      "  Min:  100000ns\n",
      "  Mean: 100000.0ns\n",
      "  Max:  100000ns\n",
      "\n",
      "No. samples: 264438\n",
      "Sample rate: 0.0001s\n"
     ]
    }
   ],
   "source": [
    "import numpy as np\n",
    "\n",
    "# Trim the data?\n",
    "#datapoints = datapoints[33500:36500]\n",
    "#datapoints = datapoints[:100000]\n",
    "\n",
    "(time_ns, enc_raw) = zip(*datapoints)\n",
    "\n",
    "# Normalise data to the first sample - everything is now relative to [0]\n",
    "enc_deg = [(r - enc_raw[0])/4 for r in enc_raw]\n",
    "time_ns = [(t-time_ns[0]) for t in time_ns]\n",
    "time_s = [t/1e9 for t in time_ns]\n",
    "\n",
    "# Sample rate\n",
    "rate_ns = [(u - t) for (t, u) in zip(time_ns, time_ns[1:])]\n",
    "print(\"Sample rate\\n  Min:  {}ns\\n  Mean: {}ns\\n  Max:  {}ns\\n\".format(np.min(rate_ns), np.mean(rate_ns), np.max(rate_ns)))\n",
    "\n",
    "# Moving avrage function\n",
    "def moving_average(a, n=3) :\n",
    "    ret = np.cumsum(a, dtype=float)\n",
    "    ret[n:] = ret[n:] - ret[:-n]\n",
    "    return ret[n - 1:] / n\n",
    "\n",
    "# Speed\n",
    "speed = [f - e for (e, f) in zip(enc_deg, enc_deg[1:])]\n",
    "speed = moving_average(speed, 100)\n",
    "\n",
    "# Info string\n",
    "info = \"No. samples: {}\\nSample rate: {}s\".format(len(datapoints),np.mean(rate_ns)/1e9)\n",
    "print(info)"
   ]
  },
  {
   "cell_type": "code",
   "execution_count": 4,
   "metadata": {},
   "outputs": [
    {
     "data": {
      "text/plain": [
       "<matplotlib.figure.Figure at 0x167f6ff7cf8>"
      ]
     },
     "metadata": {},
     "output_type": "display_data"
    }
   ],
   "source": [
    "import matplotlib.pyplot as plt\n",
    "\n",
    "# Plotting\n",
    "fig, (ax1, ax2) = plt.subplots(2, 1, True)\n",
    "\n",
    "ax1.plot(time_s, enc_deg, label=\"Angle\")\n",
    "ax2.plot(time_s[:len(speed)], speed, 'r-', label=\"Speed\")\n",
    "\n",
    "ax1.set_ylabel(\"Angle (°)\")\n",
    "ax2.set_xlabel(\"Time (s)\")\n",
    "ax2.set_ylabel(\"Speed (°/s)\")\n",
    "\n",
    "ax2.text(0.05, 0.95, info, transform=ax2.transAxes, fontsize=10, verticalalignment='top')\n",
    "\n",
    "# Legend\n",
    "#lines, labels = ax1.get_legend_handles_labels()\n",
    "#lines2, labels2 = ax2.get_legend_handles_labels()\n",
    "#ax2.legend(lines + lines2, labels + labels2, loc=4)\n",
    "\n",
    "plt.show()"
   ]
  },
  {
   "cell_type": "code",
   "execution_count": 5,
   "metadata": {},
   "outputs": [
    {
     "name": "stderr",
     "output_type": "stream",
     "text": [
      "C:\\ProgramData\\Anaconda3\\lib\\site-packages\\plotly\\plotly\\plotly.py:224: UserWarning:\n",
      "\n",
      "Woah there! Look at all those points! Due to browser limitations, the Plotly SVG drawing functions have a hard time graphing more than 500k data points for line charts, or 40k points for other types of charts. Here are some suggestions:\n",
      "(1) Use the `plotly.graph_objs.Scattergl` trace object to generate a WebGl graph.\n",
      "(2) Trying using the image API to return an image instead of a graph URL\n",
      "(3) Use matplotlib\n",
      "(4) See if you can create your visualization with fewer data points\n",
      "\n",
      "If the visualization you're using aggregates points (e.g., box plot, histogram, etc.) you can disregard this warning.\n",
      "\n",
      "C:\\ProgramData\\Anaconda3\\lib\\site-packages\\plotly\\tools.py:1416: UserWarning:\n",
      "\n",
      "Looks like you used a newline character: '\\n'.\n",
      "\n",
      "Plotly uses a subset of HTML escape characters\n",
      "to do things like newline (<br>), bold (<b></b>),\n",
      "italics (<i></i>), etc. Your newline characters \n",
      "have been converted to '<br>' so they will show \n",
      "up right on your Plotly figure!\n",
      "\n"
     ]
    },
    {
     "name": "stdout",
     "output_type": "stream",
     "text": [
      "The draw time for this plot will be slow for all clients.\n"
     ]
    },
    {
     "name": "stderr",
     "output_type": "stream",
     "text": [
      "C:\\ProgramData\\Anaconda3\\lib\\site-packages\\plotly\\api\\v1\\clientresp.py:40: UserWarning:\n",
      "\n",
      "Estimated Draw Time Too Long\n",
      "\n"
     ]
    },
    {
     "data": {
      "text/html": [
       "<iframe id=\"igraph\" scrolling=\"no\" style=\"border:none;\" seamless=\"seamless\" src=\"https://plot.ly/~jelmerstfc/6.embed\" height=\"600px\" width=\"800px\"></iframe>"
      ],
      "text/plain": [
       "<plotly.tools.PlotlyDisplay object>"
      ]
     },
     "execution_count": 5,
     "metadata": {},
     "output_type": "execute_result"
    }
   ],
   "source": [
    "from plotly import tools\n",
    "import plotly.plotly as py\n",
    "import plotly.graph_objs as go\n",
    "\n",
    "plotter = go.Scatter\n",
    "#plotter = go.Scattergl\n",
    "\n",
    "data = [ \n",
    "    plotter(x=time_s, y=enc_deg, name=\"Angle\"), \n",
    "    plotter(x=time_s, y=speed,   name=\"Speed\", yaxis=\"y2\", line={'color':('rgb(205, 12, 24)')})\n",
    "    ]\n",
    "\n",
    "layout = go.Layout(\n",
    "    width = 800,\n",
    "    height = 600,\n",
    "    title = \"Encoder Data\",\n",
    "    xaxis = dict(\n",
    "        title = \"Time (s)\",\n",
    "        rangeslider=dict()\n",
    "    ),\n",
    "    yaxis = dict(\n",
    "        title = \"Angle (°)\",\n",
    "    ),\n",
    "    yaxis2 = dict(\n",
    "        title = \"Speed (°/s)\",\n",
    "        overlaying='y',\n",
    "        side='right'\n",
    "    ),\n",
    "    showlegend= False,\n",
    "    annotations=[\n",
    "        dict(\n",
    "            x=0.05,\n",
    "            y=0.05,\n",
    "            align='left',\n",
    "            showarrow=False,\n",
    "            text=info,\n",
    "            xref='paper',\n",
    "            yref='paper'\n",
    "        ),]\n",
    ")\n",
    "\n",
    "fig = go.Figure(data=data, layout=layout)\n",
    "py.iplot(fig, filename=\"encoder_data\")"
   ]
  },
  {
   "cell_type": "code",
   "execution_count": null,
   "metadata": {},
   "outputs": [],
   "source": []
  }
 ],
 "metadata": {
  "kernelspec": {
   "display_name": "Python 3",
   "language": "python",
   "name": "python3"
  },
  "language_info": {
   "codemirror_mode": {
    "name": "ipython",
    "version": 3
   },
   "file_extension": ".py",
   "mimetype": "text/x-python",
   "name": "python",
   "nbconvert_exporter": "python",
   "pygments_lexer": "ipython3",
   "version": "3.6.4"
  }
 },
 "nbformat": 4,
 "nbformat_minor": 2
}
